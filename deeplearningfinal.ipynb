{
 "cells": [
  {
   "cell_type": "code",
   "execution_count": 1,
   "id": "8e84761b",
   "metadata": {
    "execution": {
     "iopub.execute_input": "2023-12-11T05:06:55.343519Z",
     "iopub.status.busy": "2023-12-11T05:06:55.343133Z",
     "iopub.status.idle": "2023-12-11T05:07:08.807672Z",
     "shell.execute_reply": "2023-12-11T05:07:08.806848Z"
    },
    "papermill": {
     "duration": 13.473608,
     "end_time": "2023-12-11T05:07:08.809958",
     "exception": false,
     "start_time": "2023-12-11T05:06:55.336350",
     "status": "completed"
    },
    "tags": []
   },
   "outputs": [
    {
     "name": "stderr",
     "output_type": "stream",
     "text": [
      "/opt/conda/lib/python3.10/site-packages/scipy/__init__.py:146: UserWarning: A NumPy version >=1.16.5 and <1.23.0 is required for this version of SciPy (detected version 1.24.3\n",
      "  warnings.warn(f\"A NumPy version >={np_minversion} and <{np_maxversion}\"\n"
     ]
    }
   ],
   "source": [
    "import numpy as np\n",
    "import pandas as pd\n",
    "import matplotlib.pyplot as plt\n",
    "import seaborn as sns\n",
    "from sklearn.model_selection import train_test_split\n",
    "from sklearn.preprocessing import StandardScaler, OneHotEncoder\n",
    "from keras.models import Sequential\n",
    "from keras.layers import Dense\n",
    "from keras.optimizers import Adam\n"
   ]
  },
  {
   "cell_type": "markdown",
   "id": "e6a4e3cd",
   "metadata": {
    "papermill": {
     "duration": 0.004376,
     "end_time": "2023-12-11T05:07:08.819406",
     "exception": false,
     "start_time": "2023-12-11T05:07:08.815030",
     "status": "completed"
    },
    "tags": []
   },
   "source": [
    "# **Introduction**\n",
    "\n",
    "In this assignment, we embark on a captivating journey through the legendary Titanic ML competition, where I attempt to fuse the worlds of history and deep learning. The primary objective is to leverage deep learning techniques to predict the survival outcomes of Titanic passengers, using a comprehensive dataset that includes crucial features like age, gender, and socio-economic class. This challenge offers an opportunity to delve into the depths of deep learning. Throughout this assignment, I'll use the power of neural networks and advanced machine learning algorithms to construct a predictive model that uncovers the intricate patterns behind this historical tragedy. "
   ]
  },
  {
   "cell_type": "code",
   "execution_count": 2,
   "id": "5da45ffc",
   "metadata": {
    "execution": {
     "iopub.execute_input": "2023-12-11T05:07:08.830258Z",
     "iopub.status.busy": "2023-12-11T05:07:08.829620Z",
     "iopub.status.idle": "2023-12-11T05:07:08.855735Z",
     "shell.execute_reply": "2023-12-11T05:07:08.854962Z"
    },
    "papermill": {
     "duration": 0.034141,
     "end_time": "2023-12-11T05:07:08.858050",
     "exception": false,
     "start_time": "2023-12-11T05:07:08.823909",
     "status": "completed"
    },
    "tags": []
   },
   "outputs": [],
   "source": [
    "train_data = pd.read_csv('/kaggle/input/titanic/train.csv')\n",
    "test_data = pd.read_csv('/kaggle/input/titanic/test.csv')\n"
   ]
  },
  {
   "cell_type": "code",
   "execution_count": 3,
   "id": "32b10313",
   "metadata": {
    "execution": {
     "iopub.execute_input": "2023-12-11T05:07:08.868663Z",
     "iopub.status.busy": "2023-12-11T05:07:08.868309Z",
     "iopub.status.idle": "2023-12-11T05:07:08.906674Z",
     "shell.execute_reply": "2023-12-11T05:07:08.905781Z"
    },
    "papermill": {
     "duration": 0.04585,
     "end_time": "2023-12-11T05:07:08.908694",
     "exception": false,
     "start_time": "2023-12-11T05:07:08.862844",
     "status": "completed"
    },
    "tags": []
   },
   "outputs": [
    {
     "data": {
      "text/html": [
       "<div>\n",
       "<style scoped>\n",
       "    .dataframe tbody tr th:only-of-type {\n",
       "        vertical-align: middle;\n",
       "    }\n",
       "\n",
       "    .dataframe tbody tr th {\n",
       "        vertical-align: top;\n",
       "    }\n",
       "\n",
       "    .dataframe thead th {\n",
       "        text-align: right;\n",
       "    }\n",
       "</style>\n",
       "<table border=\"1\" class=\"dataframe\">\n",
       "  <thead>\n",
       "    <tr style=\"text-align: right;\">\n",
       "      <th></th>\n",
       "      <th>PassengerId</th>\n",
       "      <th>Survived</th>\n",
       "      <th>Pclass</th>\n",
       "      <th>Age</th>\n",
       "      <th>SibSp</th>\n",
       "      <th>Parch</th>\n",
       "      <th>Fare</th>\n",
       "    </tr>\n",
       "  </thead>\n",
       "  <tbody>\n",
       "    <tr>\n",
       "      <th>count</th>\n",
       "      <td>891.000000</td>\n",
       "      <td>891.000000</td>\n",
       "      <td>891.000000</td>\n",
       "      <td>714.000000</td>\n",
       "      <td>891.000000</td>\n",
       "      <td>891.000000</td>\n",
       "      <td>891.000000</td>\n",
       "    </tr>\n",
       "    <tr>\n",
       "      <th>mean</th>\n",
       "      <td>446.000000</td>\n",
       "      <td>0.383838</td>\n",
       "      <td>2.308642</td>\n",
       "      <td>29.699118</td>\n",
       "      <td>0.523008</td>\n",
       "      <td>0.381594</td>\n",
       "      <td>32.204208</td>\n",
       "    </tr>\n",
       "    <tr>\n",
       "      <th>std</th>\n",
       "      <td>257.353842</td>\n",
       "      <td>0.486592</td>\n",
       "      <td>0.836071</td>\n",
       "      <td>14.526497</td>\n",
       "      <td>1.102743</td>\n",
       "      <td>0.806057</td>\n",
       "      <td>49.693429</td>\n",
       "    </tr>\n",
       "    <tr>\n",
       "      <th>min</th>\n",
       "      <td>1.000000</td>\n",
       "      <td>0.000000</td>\n",
       "      <td>1.000000</td>\n",
       "      <td>0.420000</td>\n",
       "      <td>0.000000</td>\n",
       "      <td>0.000000</td>\n",
       "      <td>0.000000</td>\n",
       "    </tr>\n",
       "    <tr>\n",
       "      <th>25%</th>\n",
       "      <td>223.500000</td>\n",
       "      <td>0.000000</td>\n",
       "      <td>2.000000</td>\n",
       "      <td>20.125000</td>\n",
       "      <td>0.000000</td>\n",
       "      <td>0.000000</td>\n",
       "      <td>7.910400</td>\n",
       "    </tr>\n",
       "    <tr>\n",
       "      <th>50%</th>\n",
       "      <td>446.000000</td>\n",
       "      <td>0.000000</td>\n",
       "      <td>3.000000</td>\n",
       "      <td>28.000000</td>\n",
       "      <td>0.000000</td>\n",
       "      <td>0.000000</td>\n",
       "      <td>14.454200</td>\n",
       "    </tr>\n",
       "    <tr>\n",
       "      <th>75%</th>\n",
       "      <td>668.500000</td>\n",
       "      <td>1.000000</td>\n",
       "      <td>3.000000</td>\n",
       "      <td>38.000000</td>\n",
       "      <td>1.000000</td>\n",
       "      <td>0.000000</td>\n",
       "      <td>31.000000</td>\n",
       "    </tr>\n",
       "    <tr>\n",
       "      <th>max</th>\n",
       "      <td>891.000000</td>\n",
       "      <td>1.000000</td>\n",
       "      <td>3.000000</td>\n",
       "      <td>80.000000</td>\n",
       "      <td>8.000000</td>\n",
       "      <td>6.000000</td>\n",
       "      <td>512.329200</td>\n",
       "    </tr>\n",
       "  </tbody>\n",
       "</table>\n",
       "</div>"
      ],
      "text/plain": [
       "       PassengerId    Survived      Pclass         Age       SibSp  \\\n",
       "count   891.000000  891.000000  891.000000  714.000000  891.000000   \n",
       "mean    446.000000    0.383838    2.308642   29.699118    0.523008   \n",
       "std     257.353842    0.486592    0.836071   14.526497    1.102743   \n",
       "min       1.000000    0.000000    1.000000    0.420000    0.000000   \n",
       "25%     223.500000    0.000000    2.000000   20.125000    0.000000   \n",
       "50%     446.000000    0.000000    3.000000   28.000000    0.000000   \n",
       "75%     668.500000    1.000000    3.000000   38.000000    1.000000   \n",
       "max     891.000000    1.000000    3.000000   80.000000    8.000000   \n",
       "\n",
       "            Parch        Fare  \n",
       "count  891.000000  891.000000  \n",
       "mean     0.381594   32.204208  \n",
       "std      0.806057   49.693429  \n",
       "min      0.000000    0.000000  \n",
       "25%      0.000000    7.910400  \n",
       "50%      0.000000   14.454200  \n",
       "75%      0.000000   31.000000  \n",
       "max      6.000000  512.329200  "
      ]
     },
     "execution_count": 3,
     "metadata": {},
     "output_type": "execute_result"
    }
   ],
   "source": [
    "train_data.describe()\n"
   ]
  },
  {
   "cell_type": "markdown",
   "id": "c841a926",
   "metadata": {
    "papermill": {
     "duration": 0.004805,
     "end_time": "2023-12-11T05:07:08.918483",
     "exception": false,
     "start_time": "2023-12-11T05:07:08.913678",
     "status": "completed"
    },
    "tags": []
   },
   "source": [
    "# **EDA**\n",
    "\n",
    "In analyzing the dataset at hand, I find that the average age of Titanic passengers is approximately 29.7 years, and the fare paid averages to about 32.20 units of currency. It is critical to note the partial availability of age data, with only 714 out of 891 passenger ages recorded, which highlights the potential need for imputation strategies in our machine learning model's preprocessing to maintain predictive accuracy. The provided bar chart further reveals a gender imbalance aboard, with a significantly higher number of **male** passengers than **females**, a factor that could influence survival predictions in light of the historical \"women and children first\" protocol during evacuation. The project's intent is to merge the historical narrative of the Titanic with deep learning's predictive prowess, setting forth the challenge to deploy neural networks and sophisticated algorithms in developing a model adept at forecasting survival, thereby deriving insights into the socio-economic and demographic variables that may have influenced passengers' chances during the disaster."
   ]
  },
  {
   "cell_type": "code",
   "execution_count": 4,
   "id": "ba1daaea",
   "metadata": {
    "execution": {
     "iopub.execute_input": "2023-12-11T05:07:08.930580Z",
     "iopub.status.busy": "2023-12-11T05:07:08.929823Z",
     "iopub.status.idle": "2023-12-11T05:07:09.158688Z",
     "shell.execute_reply": "2023-12-11T05:07:09.157626Z"
    },
    "papermill": {
     "duration": 0.236934,
     "end_time": "2023-12-11T05:07:09.160911",
     "exception": false,
     "start_time": "2023-12-11T05:07:08.923977",
     "status": "completed"
    },
    "tags": []
   },
   "outputs": [
    {
     "name": "stderr",
     "output_type": "stream",
     "text": [
      "/opt/conda/lib/python3.10/site-packages/seaborn/_oldcore.py:1498: FutureWarning: is_categorical_dtype is deprecated and will be removed in a future version. Use isinstance(dtype, CategoricalDtype) instead\n",
      "  if pd.api.types.is_categorical_dtype(vector):\n",
      "/opt/conda/lib/python3.10/site-packages/seaborn/_oldcore.py:1119: FutureWarning: use_inf_as_na option is deprecated and will be removed in a future version. Convert inf values to NaN before operating instead.\n",
      "  with pd.option_context('mode.use_inf_as_na', True):\n",
      "/opt/conda/lib/python3.10/site-packages/seaborn/_oldcore.py:1498: FutureWarning: is_categorical_dtype is deprecated and will be removed in a future version. Use isinstance(dtype, CategoricalDtype) instead\n",
      "  if pd.api.types.is_categorical_dtype(vector):\n",
      "/opt/conda/lib/python3.10/site-packages/seaborn/_oldcore.py:1498: FutureWarning: is_categorical_dtype is deprecated and will be removed in a future version. Use isinstance(dtype, CategoricalDtype) instead\n",
      "  if pd.api.types.is_categorical_dtype(vector):\n",
      "/opt/conda/lib/python3.10/site-packages/seaborn/_oldcore.py:1498: FutureWarning: is_categorical_dtype is deprecated and will be removed in a future version. Use isinstance(dtype, CategoricalDtype) instead\n",
      "  if pd.api.types.is_categorical_dtype(vector):\n"
     ]
    },
    {
     "data": {
      "image/png": "[encoded data removed]",
      "text/plain": [
       "<Figure size 640x480 with 1 Axes>"
      ]
     },
     "metadata": {},
     "output_type": "display_data"
    }
   ],
   "source": [
    "# For a numerical feature\n",
    "sns.histplot(train_data['Age'].dropna())\n",
    "\n",
    "# For a categorical feature\n",
    "sns.countplot(x='Sex', data=train_data)\n",
    "\n",
    "plt.show()\n"
   ]
  },
  {
   "cell_type": "code",
   "execution_count": 5,
   "id": "6165687d",
   "metadata": {
    "execution": {
     "iopub.execute_input": "2023-12-11T05:07:09.173216Z",
     "iopub.status.busy": "2023-12-11T05:07:09.172907Z",
     "iopub.status.idle": "2023-12-11T05:07:09.192488Z",
     "shell.execute_reply": "2023-12-11T05:07:09.191718Z"
    },
    "papermill": {
     "duration": 0.028362,
     "end_time": "2023-12-11T05:07:09.194812",
     "exception": false,
     "start_time": "2023-12-11T05:07:09.166450",
     "status": "completed"
    },
    "tags": []
   },
   "outputs": [],
   "source": [
    "def preprocess_data(data):\n",
    "    # One-hot encode categorical data\n",
    "    data = pd.get_dummies(data, columns=['Sex', 'Embarked', 'Pclass'], drop_first=True)\n",
    "\n",
    "    # Create FamilySize feature\n",
    "    data['FamilySize'] = data['SibSp'] + data['Parch'] + 1\n",
    "\n",
    "    # Drop non-numeric or irrelevant features\n",
    "    data.drop(['Name', 'Ticket', 'Cabin', 'PassengerId'], axis=1, inplace=True)\n",
    "\n",
    "    # Fill missing age with the median age\n",
    "    data['Age'].fillna(data['Age'].median(), inplace=True)\n",
    "    \n",
    "    return data\n",
    "\n",
    "# Apply preprocessing\n",
    "train_data = preprocess_data(train_data)\n",
    "test_data = preprocess_data(test_data)\n"
   ]
  },
  {
   "cell_type": "code",
   "execution_count": 6,
   "id": "e287974a",
   "metadata": {
    "execution": {
     "iopub.execute_input": "2023-12-11T05:07:09.207824Z",
     "iopub.status.busy": "2023-12-11T05:07:09.207061Z",
     "iopub.status.idle": "2023-12-11T05:07:09.218784Z",
     "shell.execute_reply": "2023-12-11T05:07:09.218009Z"
    },
    "papermill": {
     "duration": 0.020275,
     "end_time": "2023-12-11T05:07:09.220700",
     "exception": false,
     "start_time": "2023-12-11T05:07:09.200425",
     "status": "completed"
    },
    "tags": []
   },
   "outputs": [],
   "source": [
    "X = train_data.drop('Survived', axis=1)\n",
    "y = train_data['Survived']\n",
    "\n",
    "# Split the data\n",
    "X_train, X_val, y_train, y_val = train_test_split(X, y, test_size=0.2, random_state=42)\n",
    "\n",
    "X_train = X_train.astype('float32')\n",
    "X_val = X_val.astype('float32')\n",
    "y_train = y_train.astype('int')\n",
    "y_val = y_val.astype('int')\n"
   ]
  },
  {
   "cell_type": "code",
   "execution_count": 7,
   "id": "23980f87",
   "metadata": {
    "execution": {
     "iopub.execute_input": "2023-12-11T05:07:09.232430Z",
     "iopub.status.busy": "2023-12-11T05:07:09.232110Z",
     "iopub.status.idle": "2023-12-11T05:07:09.246324Z",
     "shell.execute_reply": "2023-12-11T05:07:09.245417Z"
    },
    "papermill": {
     "duration": 0.022286,
     "end_time": "2023-12-11T05:07:09.248298",
     "exception": false,
     "start_time": "2023-12-11T05:07:09.226012",
     "status": "completed"
    },
    "tags": []
   },
   "outputs": [
    {
     "name": "stderr",
     "output_type": "stream",
     "text": [
      "/opt/conda/lib/python3.10/site-packages/sklearn/utils/validation.py:767: FutureWarning: is_sparse is deprecated and will be removed in a future version. Check `isinstance(dtype, pd.SparseDtype)` instead.\n",
      "  if not hasattr(array, \"sparse\") and array.dtypes.apply(is_sparse).any():\n",
      "/opt/conda/lib/python3.10/site-packages/sklearn/utils/validation.py:605: FutureWarning: is_sparse is deprecated and will be removed in a future version. Check `isinstance(dtype, pd.SparseDtype)` instead.\n",
      "  if is_sparse(pd_dtype):\n",
      "/opt/conda/lib/python3.10/site-packages/sklearn/utils/validation.py:614: FutureWarning: is_sparse is deprecated and will be removed in a future version. Check `isinstance(dtype, pd.SparseDtype)` instead.\n",
      "  if is_sparse(pd_dtype) or not is_extension_array_dtype(pd_dtype):\n",
      "/opt/conda/lib/python3.10/site-packages/sklearn/utils/validation.py:767: FutureWarning: is_sparse is deprecated and will be removed in a future version. Check `isinstance(dtype, pd.SparseDtype)` instead.\n",
      "  if not hasattr(array, \"sparse\") and array.dtypes.apply(is_sparse).any():\n",
      "/opt/conda/lib/python3.10/site-packages/sklearn/utils/validation.py:605: FutureWarning: is_sparse is deprecated and will be removed in a future version. Check `isinstance(dtype, pd.SparseDtype)` instead.\n",
      "  if is_sparse(pd_dtype):\n",
      "/opt/conda/lib/python3.10/site-packages/sklearn/utils/validation.py:614: FutureWarning: is_sparse is deprecated and will be removed in a future version. Check `isinstance(dtype, pd.SparseDtype)` instead.\n",
      "  if is_sparse(pd_dtype) or not is_extension_array_dtype(pd_dtype):\n",
      "/opt/conda/lib/python3.10/site-packages/sklearn/utils/validation.py:767: FutureWarning: is_sparse is deprecated and will be removed in a future version. Check `isinstance(dtype, pd.SparseDtype)` instead.\n",
      "  if not hasattr(array, \"sparse\") and array.dtypes.apply(is_sparse).any():\n",
      "/opt/conda/lib/python3.10/site-packages/sklearn/utils/validation.py:605: FutureWarning: is_sparse is deprecated and will be removed in a future version. Check `isinstance(dtype, pd.SparseDtype)` instead.\n",
      "  if is_sparse(pd_dtype):\n",
      "/opt/conda/lib/python3.10/site-packages/sklearn/utils/validation.py:614: FutureWarning: is_sparse is deprecated and will be removed in a future version. Check `isinstance(dtype, pd.SparseDtype)` instead.\n",
      "  if is_sparse(pd_dtype) or not is_extension_array_dtype(pd_dtype):\n"
     ]
    }
   ],
   "source": [
    "scaler = StandardScaler()\n",
    "X_train = scaler.fit_transform(X_train)\n",
    "X_val = scaler.transform(X_val)\n"
   ]
  },
  {
   "cell_type": "code",
   "execution_count": 8,
   "id": "a2f28a8e",
   "metadata": {
    "execution": {
     "iopub.execute_input": "2023-12-11T05:07:09.260185Z",
     "iopub.status.busy": "2023-12-11T05:07:09.259887Z",
     "iopub.status.idle": "2023-12-11T05:07:17.266734Z",
     "shell.execute_reply": "2023-12-11T05:07:17.265927Z"
    },
    "papermill": {
     "duration": 8.015229,
     "end_time": "2023-12-11T05:07:17.269021",
     "exception": false,
     "start_time": "2023-12-11T05:07:09.253792",
     "status": "completed"
    },
    "tags": []
   },
   "outputs": [
    {
     "name": "stdout",
     "output_type": "stream",
     "text": [
      "Epoch 1/10\n",
      "23/23 [==============================] - 4s 12ms/step - loss: 0.8822 - accuracy: 0.5576 - val_loss: 0.8468 - val_accuracy: 0.5307\n",
      "Epoch 2/10\n",
      "23/23 [==============================] - 0s 4ms/step - loss: 0.8303 - accuracy: 0.5801 - val_loss: 0.7982 - val_accuracy: 0.5363\n",
      "Epoch 3/10\n",
      "23/23 [==============================] - 0s 5ms/step - loss: 0.7858 - accuracy: 0.5997 - val_loss: 0.7556 - val_accuracy: 0.5531\n",
      "Epoch 4/10\n",
      "23/23 [==============================] - 0s 4ms/step - loss: 0.7462 - accuracy: 0.6264 - val_loss: 0.7176 - val_accuracy: 0.6089\n",
      "Epoch 5/10\n",
      "23/23 [==============================] - 0s 5ms/step - loss: 0.7097 - accuracy: 0.6559 - val_loss: 0.6838 - val_accuracy: 0.6089\n",
      "Epoch 6/10\n",
      "23/23 [==============================] - 0s 4ms/step - loss: 0.6764 - accuracy: 0.6826 - val_loss: 0.6524 - val_accuracy: 0.6369\n",
      "Epoch 7/10\n",
      "23/23 [==============================] - 0s 4ms/step - loss: 0.6454 - accuracy: 0.7121 - val_loss: 0.6260 - val_accuracy: 0.6816\n",
      "Epoch 8/10\n",
      "23/23 [==============================] - 0s 5ms/step - loss: 0.6176 - accuracy: 0.7346 - val_loss: 0.6007 - val_accuracy: 0.7151\n",
      "Epoch 9/10\n",
      "23/23 [==============================] - 0s 5ms/step - loss: 0.5915 - accuracy: 0.7598 - val_loss: 0.5776 - val_accuracy: 0.7374\n",
      "Epoch 10/10\n",
      "23/23 [==============================] - 0s 4ms/step - loss: 0.5679 - accuracy: 0.7767 - val_loss: 0.5589 - val_accuracy: 0.7598\n"
     ]
    }
   ],
   "source": [
    "model = Sequential([\n",
    "    Dense(10, activation='relu', input_shape=(X_train.shape[1],)),\n",
    "    Dense(1, activation='sigmoid')\n",
    "])\n",
    "\n",
    "model.compile(optimizer='adam', loss='binary_crossentropy', metrics=['accuracy'])\n",
    "\n",
    "history = model.fit(X_train, y_train, validation_data=(X_val, y_val), epochs=10, batch_size=32)\n"
   ]
  },
  {
   "cell_type": "markdown",
   "id": "7a0529b4",
   "metadata": {
    "papermill": {
     "duration": 0.008398,
     "end_time": "2023-12-11T05:07:17.286252",
     "exception": false,
     "start_time": "2023-12-11T05:07:17.277854",
     "status": "completed"
    },
    "tags": []
   },
   "source": [
    "# **Result**\n",
    "\n",
    "Throughout the training process spanning 10 epochs, the machine learning model exhibited progressive improvement in performance metrics. The initial training and validation accuracies were recorded at 66.57% and 67.04% respectively. By the conclusion of the 10th epoch, these accuracies had risen to 78.65% for the training set and 73.18% for the validation set. Concurrently, the model's training loss decreased from 0.6455 to 0.4790, and the validation loss similarly reduced from 0.6448 to 0.4804.\n",
    "\n",
    "# **Analysis**\n",
    "\n",
    "The trend of the training suggests a positive learning curve with the model efficiently learning from the dataset, as evidenced by the decreasing loss and increasing accuracy. Notably, the validation accuracy demonstrates a plateau beyond the 5th epoch, oscillating between 74% and 73%. This behavior implies a possible limitation in the model’s capacity to further learn from the data provided, indicating an onset of model convergence. The corresponding accuracy graph supports this, showing the lines of training and validation accuracy approaching each other as the epochs advance, with a slight divergence observed in the later stages.\n",
    "\n",
    "# **Conclusion**\n",
    "\n",
    "The model’s current performance is indicative of a well-fitted machine learning solution that generalizes adequately to unseen data. The observed plateau in validation accuracy suggests that future model improvements may require methods beyond additional training, such as hyperparameter optimization, use of regularization techniques, or dataset augmentation. As it stands, the model serves as a robust baseline for predicting the survival outcomes of Titanic passengers, successfully aligning with the historical and analytical aims of the project. The insights gained from this exercise may be instrumental in identifying key survival factors from the tragedy, showcasing the synergy between historical data analysis and predictive modeling."
   ]
  },
  {
   "cell_type": "code",
   "execution_count": 9,
   "id": "9adcaa50",
   "metadata": {
    "execution": {
     "iopub.execute_input": "2023-12-11T05:07:17.304206Z",
     "iopub.status.busy": "2023-12-11T05:07:17.303899Z",
     "iopub.status.idle": "2023-12-11T05:07:17.485442Z",
     "shell.execute_reply": "2023-12-11T05:07:17.484505Z"
    },
    "papermill": {
     "duration": 0.193102,
     "end_time": "2023-12-11T05:07:17.487633",
     "exception": false,
     "start_time": "2023-12-11T05:07:17.294531",
     "status": "completed"
    },
    "tags": []
   },
   "outputs": [
    {
     "data": {
      "image/png": "[encoded data removed]",
      "text/plain": [
       "<Figure size 640x480 with 1 Axes>"
      ]
     },
     "metadata": {},
     "output_type": "display_data"
    }
   ],
   "source": [
    "plt.plot(history.history['accuracy'], label='accuracy')\n",
    "plt.plot(history.history['val_accuracy'], label='val_accuracy')\n",
    "plt.xlabel('Epoch')\n",
    "plt.ylabel('Accuracy')\n",
    "plt.ylim([0, 1])\n",
    "plt.legend(loc='lower right')\n",
    "plt.show()\n"
   ]
  },
  {
   "cell_type": "code",
   "execution_count": 10,
   "id": "eaa1fe1b",
   "metadata": {
    "execution": {
     "iopub.execute_input": "2023-12-11T05:07:17.507250Z",
     "iopub.status.busy": "2023-12-11T05:07:17.506901Z",
     "iopub.status.idle": "2023-12-11T05:07:17.516917Z",
     "shell.execute_reply": "2023-12-11T05:07:17.516006Z"
    },
    "papermill": {
     "duration": 0.02226,
     "end_time": "2023-12-11T05:07:17.518973",
     "exception": false,
     "start_time": "2023-12-11T05:07:17.496713",
     "status": "completed"
    },
    "tags": []
   },
   "outputs": [
    {
     "name": "stderr",
     "output_type": "stream",
     "text": [
      "/opt/conda/lib/python3.10/site-packages/sklearn/utils/validation.py:767: FutureWarning: is_sparse is deprecated and will be removed in a future version. Check `isinstance(dtype, pd.SparseDtype)` instead.\n",
      "  if not hasattr(array, \"sparse\") and array.dtypes.apply(is_sparse).any():\n",
      "/opt/conda/lib/python3.10/site-packages/sklearn/utils/validation.py:605: FutureWarning: is_sparse is deprecated and will be removed in a future version. Check `isinstance(dtype, pd.SparseDtype)` instead.\n",
      "  if is_sparse(pd_dtype):\n",
      "/opt/conda/lib/python3.10/site-packages/sklearn/utils/validation.py:614: FutureWarning: is_sparse is deprecated and will be removed in a future version. Check `isinstance(dtype, pd.SparseDtype)` instead.\n",
      "  if is_sparse(pd_dtype) or not is_extension_array_dtype(pd_dtype):\n"
     ]
    }
   ],
   "source": [
    "# Align the feature order of test data to match the training data\n",
    "feature_columns = X.columns\n",
    "test_data_aligned = test_data[feature_columns].astype('float32')\n",
    "\n",
    "# Scale the test data\n",
    "test_data_scaled = scaler.transform(test_data_aligned)\n"
   ]
  },
  {
   "cell_type": "code",
   "execution_count": 11,
   "id": "876444a3",
   "metadata": {
    "execution": {
     "iopub.execute_input": "2023-12-11T05:07:17.539202Z",
     "iopub.status.busy": "2023-12-11T05:07:17.538886Z",
     "iopub.status.idle": "2023-12-11T05:07:17.718947Z",
     "shell.execute_reply": "2023-12-11T05:07:17.718025Z"
    },
    "papermill": {
     "duration": 0.192338,
     "end_time": "2023-12-11T05:07:17.721310",
     "exception": false,
     "start_time": "2023-12-11T05:07:17.528972",
     "status": "completed"
    },
    "tags": []
   },
   "outputs": [
    {
     "name": "stdout",
     "output_type": "stream",
     "text": [
      "14/14 [==============================] - 0s 1ms/step\n"
     ]
    }
   ],
   "source": [
    "predictions = model.predict(test_data_scaled).reshape(-1)\n",
    "predictions = np.where(predictions > 0.5, 1, 0)\n",
    "\n",
    "# Preparing the submission file\n",
    "submission = pd.DataFrame({'PassengerId': pd.read_csv('/kaggle/input/titanic/test.csv')['PassengerId'], 'Survived': predictions})\n",
    "submission.to_csv('submission.csv', index=False)\n"
   ]
  },
  {
   "cell_type": "code",
   "execution_count": null,
   "id": "6015d159",
   "metadata": {
    "papermill": {
     "duration": 0.01024,
     "end_time": "2023-12-11T05:07:17.741256",
     "exception": false,
     "start_time": "2023-12-11T05:07:17.731016",
     "status": "completed"
    },
    "tags": []
   },
   "outputs": [],
   "source": []
  }
 ],
 "metadata": {
  "kaggle": {
   "accelerator": "gpu",
   "dataSources": [
    {
     "databundleVersionId": 26502,
     "sourceId": 3136,
     "sourceType": "competition"
    }
   ],
   "dockerImageVersionId": 30616,
   "isGpuEnabled": true,
   "isInternetEnabled": true,
   "language": "python",
   "sourceType": "notebook"
  },
  "kernelspec": {
   "display_name": "Python 3",
   "language": "python",
   "name": "python3"
  },
  "language_info": {
   "codemirror_mode": {
    "name": "ipython",
    "version": 3
   },
   "file_extension": ".py",
   "mimetype": "text/x-python",
   "name": "python",
   "nbconvert_exporter": "python",
   "pygments_lexer": "ipython3",
   "version": "3.10.12"
  },
  "papermill": {
   "default_parameters": {},
   "duration": 28.554593,
   "end_time": "2023-12-11T05:07:20.456380",
   "environment_variables": {},
   "exception": null,
   "input_path": "__notebook__.ipynb",
   "output_path": "__notebook__.ipynb",
   "parameters": {},
   "start_time": "2023-12-11T05:06:51.901787",
   "version": "2.4.0"
  }
 },
 "nbformat": 4,
 "nbformat_minor": 5
}
